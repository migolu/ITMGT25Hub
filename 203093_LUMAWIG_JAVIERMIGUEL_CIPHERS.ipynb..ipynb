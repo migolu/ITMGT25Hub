{
 "cells": [
  {
   "cell_type": "markdown",
   "id": "56312606-8a8a-4880-b1b2-963a5a6543b1",
   "metadata": {},
   "source": [
    "# Assignment: Ancient Ciphers\n",
    "\n",
    "This problem set aims to synthesize Modules 2 and 3. This means that you should be able to solve these problems using only variables, functions, conditionals, loops, and string methods. To the advanced learners out there, that means that you should not use lists, dictionaries, and libraries to solve these problems.  \n",
    "\n",
    "To be frank, with only up to loops, it is not easy to make meaningful programs. This is about the best we can do for the moment, but we promise that Python will become far more useful and fun after the departmental test."
   ]
  },
  {
   "cell_type": "markdown",
   "id": "b25562bf-ed13-4e52-b003-fdbf20389d78",
   "metadata": {
    "tags": []
   },
   "source": [
    "## Problem 1\n",
    "## Caesar Cipher (6 points)\n",
    "\n",
    "A _cipher_ is a way of disguising a message by encoding it.  \n",
    "\n",
    "One of the simplest ciphers is a \"shift cipher\" known as the _Caesar cipher_. The way it works is very simple.  \n",
    "\n",
    "1. Start with a message, such as \"ATTACK AT DAWN\".\n",
    "2. Choose a number, such as 3.\n",
    "3. _Shift_ all letters in the message to the right by the chosen number. In this case, shifting all letters in \"ATTACK AT DAWN\" by 3 results in the message \"DWWDFN DW GDZQ\".\n",
    "\n",
    "**Write a function called `problem_1` that takes two positional arguments `message` and `shift`. It should apply the Caesar cipher to a message and _return_ the result.**  \n",
    "\n",
    "Example input/output:  \n",
    "`problem_1(\"ATTACK AT DAWN\", 3)` => `\"DWWDFN DW GDZQ\"`  \n",
    "`problem_1(\"MEAMORE\", 42)` => `\"CUQCEHU\"`\n",
    "\n",
    "For full credit:\n",
    "\n",
    "1. The function must ignore spaces.\n",
    "2. The function must be able to \"wrap around\" if it reaches the end of the alphabet. (e.g., shifting Z by 1 should result in A, shifting Z by 2 should result in B, etc.)\n",
    "\n",
    "For your convenience:\n",
    "1. Assume that all letters will be uppercase.\n",
    "2. Be aware of the `chr()` function. `chr()` takes an Unicode code number and returns the character associated with that number (e.g., chr(65) => \"A\").\n",
    "3. Be aware of the `ord()` function. `ord()` takes a Unicode character and returns the Unicode code associated with that character (e.g., ord(\"A\") => 65).\n",
    "4. Be aware that the Unicode codes of the uppercase English alphabet are Unicode codes 65 to 90, where 65 = A, 66 = B, ..., 90 = Z.\n",
    "5. The shift will always be a positive integer."
   ]
  },
  {
   "cell_type": "code",
   "execution_count": 119,
   "id": "23e3727f-731e-4c1c-a178-49b34dd60bc9",
   "metadata": {},
   "outputs": [
    {
     "data": {
      "text/plain": [
       "'DWWDFN DW GDZQ'"
      ]
     },
     "execution_count": 119,
     "metadata": {},
     "output_type": "execute_result"
    }
   ],
   "source": [
    "def problem_1 (message, shift):\n",
    "    caesar = \"\"\n",
    "    \n",
    "\n",
    "    # convert message to unicode equivalent, shift, and then convert back to message\n",
    "    for i in range(len(message)):\n",
    "        character = message[i]\n",
    "        if character == \" \":\n",
    "            character.replace(\" \", \"\")\n",
    "            caesar += character\n",
    "        # since letters are all uppercase, we are only working with unicode from 65-90 \n",
    "        elif character.isupper():\n",
    "            caesar += chr((ord(character) + shift-65) % 26 + 65)\n",
    "\n",
    "    return (caesar)\n",
    "\n",
    "problem_1(\"ATTACK AT DAWN\", 3)"
   ]
  },
  {
   "cell_type": "markdown",
   "id": "74b974e9-1602-414f-98f0-2f30b0a29265",
   "metadata": {},
   "source": [
    "## Problem 2\n",
    "## Scytale Cipher (8 points)\n",
    "\n",
    "Another ancient cipher (of questionable effectiveness) is the scytale-based cipher. A _scytale_ is a cylinder around which you can wrap a long strip of parchment that contained a string of apparent gibberish. The parchment, when read using the scytale, would reveal a message due to every nth letter now appearing next to each other, revealing a proper message.  \n",
    "\n",
    "Sources:  \n",
    "1. https://en.wikipedia.org/wiki/Scytale\n",
    "\n",
    "Here is the algorithm you can use to implement a scytale-style cipher:\n",
    "\n",
    "__Encoding__\n",
    "1. Take a message to be encoded and a \"shift\" number. For this example, we will use \"INFORMATION_AGE\" as the message and 3 as the shift.\n",
    "2. Check if the length of the message is a multiple of the shift. If it is not, add additional underscores to the end of the message until it is. In this example, \"INFORMATION_AGE\" is already a multiple of 3, so we will leave it alone.\n",
    "3. This is the tricky part. Construct the encoded message. For each index `i` in the encoded message, use the character at the index `(i // shift) + (len(message) // shift) * (i % shift)` of the raw message. If this number doesn't make sense, you can play around with the cipher at https://dencode.com/en/cipher/scytale to try to understand it.\n",
    "4. Return the encoded message. In this case, the output should be \"IMNNA_FTAOIGROE\".\n",
    "\n",
    "Example input/output:  \n",
    "`problem_2(\"INFORMATION_AGE\", 3)` => `\"IMNNA_FTAOIGROE\"`  \n",
    "`problem_2(\"INFORMATION_AGE\", 4)` => `\"IRIANMOGFANEOT__\"`  \n",
    "`problem_2(\"ALGORITHMS_ARE_IMPORTANT\", 8)` => `\"AOTSRIOALRH_EMRNGIMA_PTT\"`  \n",
    "\n",
    "__Write a function called `problem_2` that takes two positional arguments `message` and `shift`. It should apply this scytale-style cipher to a message and return the encoded message.__  \n",
    "\n",
    "For your convenience:  \n",
    "1. A message will only ever contain capital letters and underscores. (Underscores will be used to represent spaces.)  \n",
    "2. The shift will always be a positive integer, and it will never exceed the length of the message."
   ]
  },
  {
   "cell_type": "code",
   "execution_count": 17,
   "id": "1c12b3fb-1abf-4bb7-8243-22888168fde7",
   "metadata": {},
   "outputs": [
    {
     "data": {
      "text/plain": [
       "'IRIANMOGFANEOT__'"
      ]
     },
     "execution_count": 17,
     "metadata": {},
     "output_type": "execute_result"
    }
   ],
   "source": [
    "# Start with message to be encoded and choose number (input)\n",
    "# Encoded message after applying cipher (output)\n",
    "\n",
    "def problem_2(message, shift):\n",
    "    scytale = [\"\"]*shift\n",
    "    #check if length of message is multiple of shift\n",
    "    while len(message) % shift != 0:\n",
    "        message += \"_\"\n",
    "    \n",
    "    #construct encoded message\n",
    "    #for every character (i) in range of shift number, current index will be equal to i\n",
    "    for i in range(shift):\n",
    "        current_index = i\n",
    "        #while current index is less than message length\n",
    "        while current_index < len(message):\n",
    "            #current index of original message is added to the index of the encoded message \n",
    "            scytale[i] += message [current_index]\n",
    "            #shift number is added to current index\n",
    "            current_index += shift\n",
    "\n",
    "    return \"\".join(scytale)\n",
    "\n",
    "problem_2(\"INFORMATION_AGE\", 4)"
   ]
  },
  {
   "cell_type": "markdown",
   "id": "2eb38a6d-f717-470e-af0d-38e0cdaec599",
   "metadata": {},
   "source": [
    "## Problem 3\n",
    "## Vigenere Cipher (8 points)\n",
    "\n",
    "The Caesar cipher is very easy to crack. The _Vigenere cipher_ is an extension to the Caesar cipher that makes it a little more difficult to crack. There are many variations of this cipher, but for the purposes of this exercise, this is how it works:\n",
    "\n",
    "1. Start with a message, such as \"MY MESSAGE\".\n",
    "2. Choose a keyphrase, such as \"KEY\".\n",
    "3. Repeat the keyphrase until it matches the length of the message. In this case, extend \"KEY\" to \"KEYKEYKEYK\". This should yield an implicit 1-1 mapping between letters in the message to letters in the key.\n",
    "4. Convert all letters in the key to their number values (in this particular case, A => 0, Z => 25, etc.). Shift the letters in the message to the right by the number value of the respective letter in the extended key. In this case, applying the cipher yields the encrypted message \"WC WIQCEEO\".\n",
    "\n",
    "**Write a function called `problem_3` that takes two positional arguments `message` and `key`. It should apply the Vigenere cipher to the message and return the encoded message.**  \n",
    "\n",
    "Example input/output:  \n",
    "`problem_3(\"MEAMORE\", \"VINCE\")` => `\"HMNOSMM\"`  \n",
    "`problem_3(\"FOOBAR IS FUBAR\", \"BUZZ\")` => `\"GINABL HT ETCUQ\"`\n",
    "\n",
    "For full credit:\n",
    "1. Spaces in the message count as characters and thus count as additional message length for the purposes of key extension, but they are to be ignored when applying the cipher to the message.\n",
    "\n",
    "For your convenience:\n",
    "1. You are allowed to call your Caesar cipher function.\n",
    "2. Assume that all letters will be uppercase.\n",
    "3. Assume that the key will always be the same length or shorter than the message. The key will only ever have uppercase letters (i.e., no spaces).\n",
    "4. Assume that the message will only ever consist of uppercase letters and spaces."
   ]
  },
  {
   "cell_type": "code",
   "execution_count": 125,
   "id": "ccf5ef3d-3865-492e-a155-9915f53c259f",
   "metadata": {},
   "outputs": [
    {
     "data": {
      "text/plain": [
       "'HMNOSMM'"
      ]
     },
     "execution_count": 125,
     "metadata": {},
     "output_type": "execute_result"
    }
   ],
   "source": [
    "def problem_3 (message, key):\n",
    "    vigenere = ''\n",
    "    count = 0\n",
    "    \n",
    "    #repeat keyphrase until matches length of key \n",
    "    for i in range(len(message)):\n",
    "        character = message[i]\n",
    "        # take care of spaces\n",
    "        if character == \" \":\n",
    "            character.replace(\" \", \"\")\n",
    "            vigenere = vigenere + character\n",
    "        # take care of uppercase letters\n",
    "        elif character.isupper():\n",
    "            shift = ord(key[count]) - ord (\"A\")\n",
    "            #apply cypher\n",
    "            vigenere_applied = chr((ord(character) + shift - 65) % 26 + 65)\n",
    "            vigenere += vigenere_applied\n",
    "            \n",
    "            count = (count + 1) % len(key)\n",
    "\n",
    "    return vigenere\n",
    "\n",
    "problem_3(\"MEAMORE\", \"VINCE\")"
   ]
  },
  {
   "cell_type": "markdown",
   "id": "de6f141e-1e48-4124-bd55-a49c502f28d3",
   "metadata": {},
   "source": [
    "## Problem 4\n",
    "## Scytale De-cipher (8 points)\n",
    "\n",
    "There is no brief for this number.  \n",
    "\n",
    "__Write a function called `problem_4` that takes two positional arguments `message` and `shift`. It should decipher a message that is encoded in the scytale-style cipher from Problem 2 and return the decoded message.__   \n",
    "\n",
    "Example input/output:  \n",
    "`problem_4(\"IMNNA_FTAOIGROE\", 3)` => `\"INFORMATION_AGE\"`  \n",
    "`problem_4(\"AOTSRIOALRH_EMRNGIMA_PTT\", 8)` => `\"ALGORITHMS_ARE_IMPORTANT\"`  \n",
    "`problem_4(\"IRIANMOGFANEOT__\", 4)` => `\"INFORMATION_AGE_\"`  \n",
    "\n",
    "For your convenience:\n",
    "1. Do not trim the added underscores at the end of the message."
   ]
  },
  {
   "cell_type": "code",
   "execution_count": 10,
   "id": "b301a009-0c65-4826-ae0a-e24dccc323d6",
   "metadata": {},
   "outputs": [
    {
     "data": {
      "text/plain": [
       "'ALGORITHMS_ARE_IMPORTANT'"
      ]
     },
     "execution_count": 10,
     "metadata": {},
     "output_type": "execute_result"
    }
   ],
   "source": [
    "def problem_4(message, shift):\n",
    "# Start with encoded message (input)\n",
    "# Decoded message (output)\n",
    "\n",
    "    scytale = [\"\"]*shift\n",
    "    #check if length of message is multiple of shift\n",
    "    while len(message) % shift != 0:\n",
    "        message += \"_\"\n",
    "    \n",
    "    #construct encoded message\n",
    "    for i in range(shift):\n",
    "        current_index = i\n",
    "        while current_index < len(message):\n",
    "            scytale[i] += message [current_index]\n",
    "            current_index += shift\n",
    "        #scytale += (i // shift) + (len(message) // shift) * (i % shift)\n",
    "        #for i in range(len(index)):\n",
    "\n",
    "    return \"\".join(scytale)\n",
    "\n",
    "problem_2(\"AOTSRIOALRH_EMRNGIMA_PTT\", 8)"
   ]
  }
 ],
 "metadata": {
  "kernelspec": {
   "display_name": "Python 3",
   "language": "python",
   "name": "python3"
  },
  "language_info": {
   "codemirror_mode": {
    "name": "ipython",
    "version": 3
   },
   "file_extension": ".py",
   "mimetype": "text/x-python",
   "name": "python",
   "nbconvert_exporter": "python",
   "pygments_lexer": "ipython3",
   "version": "3.8.8"
  }
 },
 "nbformat": 4,
 "nbformat_minor": 5
}
